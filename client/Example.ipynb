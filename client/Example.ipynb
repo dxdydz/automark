{
 "cells": [
  {
   "cell_type": "markdown",
   "metadata": {},
   "source": [
    "The cell below will register a student. It should only be done once, then they can use their username to submit results."
   ]
  },
  {
   "cell_type": "code",
   "execution_count": 10,
   "metadata": {
    "collapsed": false
   },
   "outputs": [
    {
     "name": "stdout",
     "output_type": "stream",
     "text": [
      "Username already registered.\n"
     ]
    }
   ],
   "source": [
    "import client_req as ct\n",
    "username = 'spencer'     #no spaces would be nice\n",
    "member1  = ('REPLACE WITH NAME','REPLACE WITH EMAIL') #Please put the name and email here\n",
    "ct.register_id(username,member1)"
   ]
  },
  {
   "cell_type": "markdown",
   "metadata": {},
   "source": [
    "Students must implement functions. The structure (arguments and return) are in place ahead of time:"
   ]
  },
  {
   "cell_type": "code",
   "execution_count": 11,
   "metadata": {
    "collapsed": true
   },
   "outputs": [],
   "source": [
    "import numpy as np\n",
    "\n",
    "def simple_add(a,b):\n",
    "    '''Function returns the sum of a and b'''\n",
    "    out = np.float_(0)\n",
    "    \n",
    "    #PUT CODE BELOW\n",
    "    out = a+b\n",
    "    #PUT CODE ABOVE\n",
    "    \n",
    "    return out"
   ]
  },
  {
   "cell_type": "markdown",
   "metadata": {},
   "source": [
    "Code can then be evaluated via the server:"
   ]
  },
  {
   "cell_type": "code",
   "execution_count": 12,
   "metadata": {
    "collapsed": false,
    "scrolled": false
   },
   "outputs": [
    {
     "name": "stdout",
     "output_type": "stream",
     "text": [
      "Testing Simple Add Function...\n",
      "Test was successful. Congratulations!\n"
     ]
    }
   ],
   "source": [
    "import client_req as ct\n",
    "username = 'specer'\n",
    "print \"Testing Simple Add Function...\"\n",
    "ct.test_student_function(username,\n",
    "                         'Toy Example',\n",
    "                         simple_add,\n",
    "                         ['a', 'b'])\n",
    "\n",
    "#Arguments are username, the title of the assignment (defined server side), \n",
    "#the function to evaluate, and the names of the arguments"
   ]
  }
 ],
 "metadata": {
  "anaconda-cloud": {},
  "kernelspec": {
   "display_name": "Python [default]",
   "language": "python",
   "name": "python2"
  },
  "language_info": {
   "codemirror_mode": {
    "name": "ipython",
    "version": 2
   },
   "file_extension": ".py",
   "mimetype": "text/x-python",
   "name": "python",
   "nbconvert_exporter": "python",
   "pygments_lexer": "ipython2",
   "version": "2.7.12"
  }
 },
 "nbformat": 4,
 "nbformat_minor": 1
}
